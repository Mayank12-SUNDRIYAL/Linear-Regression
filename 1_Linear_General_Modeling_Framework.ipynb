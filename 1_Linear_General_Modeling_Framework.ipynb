{
  "nbformat": 4,
  "nbformat_minor": 0,
  "metadata": {
    "colab": {
      "provenance": [],
      "collapsed_sections": []
    },
    "kernelspec": {
      "name": "python3",
      "display_name": "Python 3"
    }
  },
  "cells": [
    {
      "cell_type": "markdown",
      "metadata": {
        "id": "zehws9Rhsk2m"
      },
      "source": [
        "# Linear Regression with Boston Housing\n",
        "\n",
        "\n",
        "Utilizes the `General Modeling Framework: Simple.ipynb` notebook!\n",
        "\n",
        "-------------------------------------------------\n",
        "\n",
        "This is an (applied) bare-bones script to get you up and running with regression modeling. For a given dataset, you should be able to code relevant content in the cells below. "
      ]
    },
    {
      "cell_type": "markdown",
      "metadata": {
        "id": "xhEQ0UwesvAB"
      },
      "source": [
        "## Getting started\n",
        "Import modules, mount Drive, read in the data, check data types and missing values. You may also do some light EDA prior to modeling.\n",
        "\n",
        "Notice how we are using the same functions over and over again... it really is like following a recipe.\n"
      ]
    },
    {
      "cell_type": "code",
      "metadata": {
        "id": "QqeDxYgSs2OG"
      },
      "source": [
        "# import modules we need for EDA and wrangling\n",
        "import pandas as pd\n",
        "import numpy as np\n",
        "import matplotlib.pyplot as plt\n",
        "import seaborn as sns\n",
        "\n",
        "# these functions are useful for splitting and normalization\n",
        "from sklearn.preprocessing import  MinMaxScaler\n",
        "from sklearn.model_selection import train_test_split\n",
        "\n",
        "# import other functions we'll need for regression modeling\n",
        "from sklearn.linear_model import LinearRegression\n",
        "\n",
        "# regression error metrics\n",
        "from sklearn.metrics import mean_absolute_error\n",
        "from sklearn.metrics import mean_squared_error\n",
        "from sklearn.metrics import r2_score"
      ],
      "execution_count": null,
      "outputs": []
    },
    {
      "cell_type": "code",
      "metadata": {
        "id": "W8O70GwnxfXY",
        "colab": {
          "base_uri": "https://localhost:8080/"
        },
        "outputId": "217e3df3-dfe9-40f5-998f-dc998199cc88"
      },
      "source": [
        "# mount your google drive\n",
        "from google.colab import drive\n",
        "drive.mount('/content/drive')"
      ],
      "execution_count": null,
      "outputs": [
        {
          "output_type": "stream",
          "text": [
            "Drive already mounted at /content/drive; to attempt to forcibly remount, call drive.mount(\"/content/drive\", force_remount=True).\n"
          ],
          "name": "stdout"
        }
      ]
    },
    {
      "cell_type": "code",
      "metadata": {
        "id": "zrD3Xocnxv1c"
      },
      "source": [
        "# read in some data\n",
        "df = pd.read_csv('/content/drive/MyDrive/Online Materials/Module 2: Dirty Data and Parametric Models/Week 2: Linear Models/data/Boston Housing.csv')"
      ],
      "execution_count": null,
      "outputs": []
    },
    {
      "cell_type": "code",
      "metadata": {
        "id": "e7PnTKNZyHfm",
        "colab": {
          "base_uri": "https://localhost:8080/",
          "height": 653
        },
        "outputId": "577b8174-0fb7-4aaf-9893-506e314fea6e"
      },
      "source": [
        "# data type, shape and columns\n",
        "\n",
        "print(\"This is the shape :\\n\", df.shape, '\\n') # escape characters are fun! \\n adds a return line\n",
        "print(\"These are the column names: \\n\", df.columns, '\\n') # helps keep things nice and clean\n",
        "print(\"These are the data types: \\n\", df.dtypes)\n",
        "\n",
        "# right away you see this 'valid' column is an 'object', which means it's a string\n",
        "# AKA something you can't do math on... look at the head and see what's going on\n",
        "# in that column. ALL OTHER DATA IS NUMERIC (float64)\n",
        "# this is a good quiz question... ;)\n",
        "\n",
        "print(\"\\nThis is the head:\") # see how I can pop that \\n anywhere?\n",
        "df.head()   # also note how much stuff I have pasted in ONE CELL...\n",
        "            # now you are cooking with gas!\n",
        "\n",
        "# the head confirms to use that the valid column is some type of time/date stamp\n",
        "# we need to stop what we are doing and take care of this NOW!"
      ],
      "execution_count": null,
      "outputs": [
        {
          "output_type": "stream",
          "text": [
            "This is the shape :\n",
            " (506, 14) \n",
            "\n",
            "These are the column names: \n",
            " Index(['crim', 'zn', 'indus', 'chas', 'nox', 'rm', 'age', 'dis', 'rad', 'tax',\n",
            "       'ptratio', 'b', 'lstat', 'medv'],\n",
            "      dtype='object') \n",
            "\n",
            "These are the data types: \n",
            " crim       float64\n",
            "zn         float64\n",
            "indus      float64\n",
            "chas         int64\n",
            "nox        float64\n",
            "rm         float64\n",
            "age        float64\n",
            "dis        float64\n",
            "rad          int64\n",
            "tax          int64\n",
            "ptratio    float64\n",
            "b          float64\n",
            "lstat      float64\n",
            "medv       float64\n",
            "dtype: object\n",
            "\n",
            "This is the head:\n"
          ],
          "name": "stdout"
        },
        {
          "output_type": "execute_result",
          "data": {
            "text/html": [
              "<div>\n",
              "<style scoped>\n",
              "    .dataframe tbody tr th:only-of-type {\n",
              "        vertical-align: middle;\n",
              "    }\n",
              "\n",
              "    .dataframe tbody tr th {\n",
              "        vertical-align: top;\n",
              "    }\n",
              "\n",
              "    .dataframe thead th {\n",
              "        text-align: right;\n",
              "    }\n",
              "</style>\n",
              "<table border=\"1\" class=\"dataframe\">\n",
              "  <thead>\n",
              "    <tr style=\"text-align: right;\">\n",
              "      <th></th>\n",
              "      <th>crim</th>\n",
              "      <th>zn</th>\n",
              "      <th>indus</th>\n",
              "      <th>chas</th>\n",
              "      <th>nox</th>\n",
              "      <th>rm</th>\n",
              "      <th>age</th>\n",
              "      <th>dis</th>\n",
              "      <th>rad</th>\n",
              "      <th>tax</th>\n",
              "      <th>ptratio</th>\n",
              "      <th>b</th>\n",
              "      <th>lstat</th>\n",
              "      <th>medv</th>\n",
              "    </tr>\n",
              "  </thead>\n",
              "  <tbody>\n",
              "    <tr>\n",
              "      <th>0</th>\n",
              "      <td>0.00632</td>\n",
              "      <td>18.0</td>\n",
              "      <td>2.31</td>\n",
              "      <td>0</td>\n",
              "      <td>0.538</td>\n",
              "      <td>6.575</td>\n",
              "      <td>65.2</td>\n",
              "      <td>4.0900</td>\n",
              "      <td>1</td>\n",
              "      <td>296</td>\n",
              "      <td>15.3</td>\n",
              "      <td>396.90</td>\n",
              "      <td>4.98</td>\n",
              "      <td>24.0</td>\n",
              "    </tr>\n",
              "    <tr>\n",
              "      <th>1</th>\n",
              "      <td>0.02731</td>\n",
              "      <td>0.0</td>\n",
              "      <td>7.07</td>\n",
              "      <td>0</td>\n",
              "      <td>0.469</td>\n",
              "      <td>6.421</td>\n",
              "      <td>78.9</td>\n",
              "      <td>4.9671</td>\n",
              "      <td>2</td>\n",
              "      <td>242</td>\n",
              "      <td>17.8</td>\n",
              "      <td>396.90</td>\n",
              "      <td>9.14</td>\n",
              "      <td>21.6</td>\n",
              "    </tr>\n",
              "    <tr>\n",
              "      <th>2</th>\n",
              "      <td>0.02729</td>\n",
              "      <td>0.0</td>\n",
              "      <td>7.07</td>\n",
              "      <td>0</td>\n",
              "      <td>0.469</td>\n",
              "      <td>7.185</td>\n",
              "      <td>61.1</td>\n",
              "      <td>4.9671</td>\n",
              "      <td>2</td>\n",
              "      <td>242</td>\n",
              "      <td>17.8</td>\n",
              "      <td>392.83</td>\n",
              "      <td>4.03</td>\n",
              "      <td>34.7</td>\n",
              "    </tr>\n",
              "    <tr>\n",
              "      <th>3</th>\n",
              "      <td>0.03237</td>\n",
              "      <td>0.0</td>\n",
              "      <td>2.18</td>\n",
              "      <td>0</td>\n",
              "      <td>0.458</td>\n",
              "      <td>6.998</td>\n",
              "      <td>45.8</td>\n",
              "      <td>6.0622</td>\n",
              "      <td>3</td>\n",
              "      <td>222</td>\n",
              "      <td>18.7</td>\n",
              "      <td>394.63</td>\n",
              "      <td>2.94</td>\n",
              "      <td>33.4</td>\n",
              "    </tr>\n",
              "    <tr>\n",
              "      <th>4</th>\n",
              "      <td>0.06905</td>\n",
              "      <td>0.0</td>\n",
              "      <td>2.18</td>\n",
              "      <td>0</td>\n",
              "      <td>0.458</td>\n",
              "      <td>7.147</td>\n",
              "      <td>54.2</td>\n",
              "      <td>6.0622</td>\n",
              "      <td>3</td>\n",
              "      <td>222</td>\n",
              "      <td>18.7</td>\n",
              "      <td>396.90</td>\n",
              "      <td>5.33</td>\n",
              "      <td>36.2</td>\n",
              "    </tr>\n",
              "  </tbody>\n",
              "</table>\n",
              "</div>"
            ],
            "text/plain": [
              "      crim    zn  indus  chas    nox  ...  tax  ptratio       b  lstat  medv\n",
              "0  0.00632  18.0   2.31     0  0.538  ...  296     15.3  396.90   4.98  24.0\n",
              "1  0.02731   0.0   7.07     0  0.469  ...  242     17.8  396.90   9.14  21.6\n",
              "2  0.02729   0.0   7.07     0  0.469  ...  242     17.8  392.83   4.03  34.7\n",
              "3  0.03237   0.0   2.18     0  0.458  ...  222     18.7  394.63   2.94  33.4\n",
              "4  0.06905   0.0   2.18     0  0.458  ...  222     18.7  396.90   5.33  36.2\n",
              "\n",
              "[5 rows x 14 columns]"
            ]
          },
          "metadata": {
            "tags": []
          },
          "execution_count": 4
        }
      ]
    },
    {
      "cell_type": "code",
      "metadata": {
        "id": "PTEvjnfTyVmS",
        "colab": {
          "base_uri": "https://localhost:8080/"
        },
        "outputId": "e59f2d0c-4031-4d62-fbb8-909eca1520a0"
      },
      "source": [
        "# here's another cool way to get a lot of this info AND MORE\n",
        "df.info() # gives you missing values report too - this is nice complete data\n",
        "\n",
        "# data types, shape, missing values per columm.... pandas rocks..."
      ],
      "execution_count": null,
      "outputs": [
        {
          "output_type": "stream",
          "text": [
            "<class 'pandas.core.frame.DataFrame'>\n",
            "RangeIndex: 506 entries, 0 to 505\n",
            "Data columns (total 14 columns):\n",
            " #   Column   Non-Null Count  Dtype  \n",
            "---  ------   --------------  -----  \n",
            " 0   crim     506 non-null    float64\n",
            " 1   zn       506 non-null    float64\n",
            " 2   indus    506 non-null    float64\n",
            " 3   chas     506 non-null    int64  \n",
            " 4   nox      506 non-null    float64\n",
            " 5   rm       506 non-null    float64\n",
            " 6   age      506 non-null    float64\n",
            " 7   dis      506 non-null    float64\n",
            " 8   rad      506 non-null    int64  \n",
            " 9   tax      506 non-null    int64  \n",
            " 10  ptratio  506 non-null    float64\n",
            " 11  b        506 non-null    float64\n",
            " 12  lstat    506 non-null    float64\n",
            " 13  medv     506 non-null    float64\n",
            "dtypes: float64(11), int64(3)\n",
            "memory usage: 55.5 KB\n"
          ],
          "name": "stdout"
        }
      ]
    },
    {
      "cell_type": "markdown",
      "metadata": {
        "id": "hRSBaBBhs3og"
      },
      "source": [
        "## Data splitting\n",
        "Subset your data into X features and Y target variable for modeling. Convert X and Y to numpy arrays. Then use train_test_split for data splitting (80/20 is very common); don't forget random seed and shuffle."
      ]
    },
    {
      "cell_type": "code",
      "metadata": {
        "id": "K3TFxlOdt1dH",
        "colab": {
          "base_uri": "https://localhost:8080/"
        },
        "outputId": "d553b6cd-c3cf-4825-8381-ee2128d514b6"
      },
      "source": [
        "# the target variable is Y\n",
        "# we know that this is 'medv'\n",
        "Y = df['medv']\n",
        "print(Y.shape) # a single column with 506 rows"
      ],
      "execution_count": null,
      "outputs": [
        {
          "output_type": "stream",
          "text": [
            "(506,)\n"
          ],
          "name": "stdout"
        }
      ]
    },
    {
      "cell_type": "code",
      "metadata": {
        "id": "D_9wf4FFyqr6",
        "colab": {
          "base_uri": "https://localhost:8080/"
        },
        "outputId": "c3778d18-aab5-4d53-d1c1-dac425911f16"
      },
      "source": [
        "# everything else is X \n",
        "# so just drop 'medv' and you are done\n",
        "X = df.drop('medv', axis=1)\n",
        "print(X.shape) # note that we have gone from 14 to 13 columns, this is good! 506 rows."
      ],
      "execution_count": null,
      "outputs": [
        {
          "output_type": "stream",
          "text": [
            "(506, 13)\n"
          ],
          "name": "stdout"
        }
      ]
    },
    {
      "cell_type": "code",
      "metadata": {
        "id": "A1mK3qjl8Pnx",
        "colab": {
          "base_uri": "https://localhost:8080/",
          "height": 202
        },
        "outputId": "2f41b610-d85a-4b54-b6e7-b40e045761ad"
      },
      "source": [
        "# verify that 'medv' is not there\n",
        "X.head()"
      ],
      "execution_count": null,
      "outputs": [
        {
          "output_type": "execute_result",
          "data": {
            "text/html": [
              "<div>\n",
              "<style scoped>\n",
              "    .dataframe tbody tr th:only-of-type {\n",
              "        vertical-align: middle;\n",
              "    }\n",
              "\n",
              "    .dataframe tbody tr th {\n",
              "        vertical-align: top;\n",
              "    }\n",
              "\n",
              "    .dataframe thead th {\n",
              "        text-align: right;\n",
              "    }\n",
              "</style>\n",
              "<table border=\"1\" class=\"dataframe\">\n",
              "  <thead>\n",
              "    <tr style=\"text-align: right;\">\n",
              "      <th></th>\n",
              "      <th>crim</th>\n",
              "      <th>zn</th>\n",
              "      <th>indus</th>\n",
              "      <th>chas</th>\n",
              "      <th>nox</th>\n",
              "      <th>rm</th>\n",
              "      <th>age</th>\n",
              "      <th>dis</th>\n",
              "      <th>rad</th>\n",
              "      <th>tax</th>\n",
              "      <th>ptratio</th>\n",
              "      <th>b</th>\n",
              "      <th>lstat</th>\n",
              "    </tr>\n",
              "  </thead>\n",
              "  <tbody>\n",
              "    <tr>\n",
              "      <th>0</th>\n",
              "      <td>0.00632</td>\n",
              "      <td>18.0</td>\n",
              "      <td>2.31</td>\n",
              "      <td>0</td>\n",
              "      <td>0.538</td>\n",
              "      <td>6.575</td>\n",
              "      <td>65.2</td>\n",
              "      <td>4.0900</td>\n",
              "      <td>1</td>\n",
              "      <td>296</td>\n",
              "      <td>15.3</td>\n",
              "      <td>396.90</td>\n",
              "      <td>4.98</td>\n",
              "    </tr>\n",
              "    <tr>\n",
              "      <th>1</th>\n",
              "      <td>0.02731</td>\n",
              "      <td>0.0</td>\n",
              "      <td>7.07</td>\n",
              "      <td>0</td>\n",
              "      <td>0.469</td>\n",
              "      <td>6.421</td>\n",
              "      <td>78.9</td>\n",
              "      <td>4.9671</td>\n",
              "      <td>2</td>\n",
              "      <td>242</td>\n",
              "      <td>17.8</td>\n",
              "      <td>396.90</td>\n",
              "      <td>9.14</td>\n",
              "    </tr>\n",
              "    <tr>\n",
              "      <th>2</th>\n",
              "      <td>0.02729</td>\n",
              "      <td>0.0</td>\n",
              "      <td>7.07</td>\n",
              "      <td>0</td>\n",
              "      <td>0.469</td>\n",
              "      <td>7.185</td>\n",
              "      <td>61.1</td>\n",
              "      <td>4.9671</td>\n",
              "      <td>2</td>\n",
              "      <td>242</td>\n",
              "      <td>17.8</td>\n",
              "      <td>392.83</td>\n",
              "      <td>4.03</td>\n",
              "    </tr>\n",
              "    <tr>\n",
              "      <th>3</th>\n",
              "      <td>0.03237</td>\n",
              "      <td>0.0</td>\n",
              "      <td>2.18</td>\n",
              "      <td>0</td>\n",
              "      <td>0.458</td>\n",
              "      <td>6.998</td>\n",
              "      <td>45.8</td>\n",
              "      <td>6.0622</td>\n",
              "      <td>3</td>\n",
              "      <td>222</td>\n",
              "      <td>18.7</td>\n",
              "      <td>394.63</td>\n",
              "      <td>2.94</td>\n",
              "    </tr>\n",
              "    <tr>\n",
              "      <th>4</th>\n",
              "      <td>0.06905</td>\n",
              "      <td>0.0</td>\n",
              "      <td>2.18</td>\n",
              "      <td>0</td>\n",
              "      <td>0.458</td>\n",
              "      <td>7.147</td>\n",
              "      <td>54.2</td>\n",
              "      <td>6.0622</td>\n",
              "      <td>3</td>\n",
              "      <td>222</td>\n",
              "      <td>18.7</td>\n",
              "      <td>396.90</td>\n",
              "      <td>5.33</td>\n",
              "    </tr>\n",
              "  </tbody>\n",
              "</table>\n",
              "</div>"
            ],
            "text/plain": [
              "      crim    zn  indus  chas    nox  ...  rad  tax  ptratio       b  lstat\n",
              "0  0.00632  18.0   2.31     0  0.538  ...    1  296     15.3  396.90   4.98\n",
              "1  0.02731   0.0   7.07     0  0.469  ...    2  242     17.8  396.90   9.14\n",
              "2  0.02729   0.0   7.07     0  0.469  ...    2  242     17.8  392.83   4.03\n",
              "3  0.03237   0.0   2.18     0  0.458  ...    3  222     18.7  394.63   2.94\n",
              "4  0.06905   0.0   2.18     0  0.458  ...    3  222     18.7  396.90   5.33\n",
              "\n",
              "[5 rows x 13 columns]"
            ]
          },
          "metadata": {
            "tags": []
          },
          "execution_count": 8
        }
      ]
    },
    {
      "cell_type": "code",
      "metadata": {
        "id": "5oPRE8wdzAHm"
      },
      "source": [
        "# now, split the data in ONE LINE OF CODE\n",
        "# notice how we are assigning four different variables at once\n",
        "# this makes it really clean\n",
        "\n",
        "# be careful of capital vs. lowercase X and Y, you might get an error...\n",
        "# notice the 80/20 split we perform\n",
        "\n",
        "X_train, X_test, y_train, y_test = train_test_split(X, Y,\n",
        "                                                    test_size = 0.2,\n",
        "                                                    shuffle = True,\n",
        "                                                    random_state = 42)"
      ],
      "execution_count": null,
      "outputs": []
    },
    {
      "cell_type": "code",
      "metadata": {
        "id": "Oov4jzsfzeaz",
        "colab": {
          "base_uri": "https://localhost:8080/"
        },
        "outputId": "ff9d9e51-a173-4dd8-e76a-75aa781f817b"
      },
      "source": [
        "# check your work - does the shape match what you think it should be?\n",
        "print(X_train.shape, X_test.shape, y_train.shape, y_test.shape)"
      ],
      "execution_count": null,
      "outputs": [
        {
          "output_type": "stream",
          "text": [
            "(404, 13) (102, 13) (404,) (102,)\n"
          ],
          "name": "stdout"
        }
      ]
    },
    {
      "cell_type": "code",
      "metadata": {
        "id": "0B_LcMUm00Hc"
      },
      "source": [
        "# convert these all to numpy arrays\n",
        "X_train = np.array(X_train)\n",
        "X_test = np.array(X_test)\n",
        "y_train = np.array(y_train)\n",
        "y_test = np.array(y_test)"
      ],
      "execution_count": null,
      "outputs": []
    },
    {
      "cell_type": "code",
      "metadata": {
        "id": "8cBK9dKs89XA",
        "colab": {
          "base_uri": "https://localhost:8080/"
        },
        "outputId": "31b8761f-8e92-4d4d-f351-43de96b89e59"
      },
      "source": [
        "# a numpy array is just a bare-bones matrix filled with numbers\n",
        "# it is great for modeling\n",
        "X_train"
      ],
      "execution_count": null,
      "outputs": [
        {
          "output_type": "execute_result",
          "data": {
            "text/plain": [
              "array([[1.50234e+01, 0.00000e+00, 1.81000e+01, ..., 2.02000e+01,\n",
              "        3.49480e+02, 2.49100e+01],\n",
              "       [6.27390e-01, 0.00000e+00, 8.14000e+00, ..., 2.10000e+01,\n",
              "        3.95620e+02, 8.47000e+00],\n",
              "       [3.46600e-02, 3.50000e+01, 6.06000e+00, ..., 1.69000e+01,\n",
              "        3.62250e+02, 7.83000e+00],\n",
              "       ...,\n",
              "       [1.50100e-02, 8.00000e+01, 2.01000e+00, ..., 1.70000e+01,\n",
              "        3.90940e+02, 5.99000e+00],\n",
              "       [1.11604e+01, 0.00000e+00, 1.81000e+01, ..., 2.02000e+01,\n",
              "        1.09850e+02, 2.32700e+01],\n",
              "       [2.28760e-01, 0.00000e+00, 8.56000e+00, ..., 2.09000e+01,\n",
              "        7.08000e+01, 1.06300e+01]])"
            ]
          },
          "metadata": {
            "tags": []
          },
          "execution_count": 12
        }
      ]
    },
    {
      "cell_type": "markdown",
      "metadata": {
        "id": "E5vFxGifuPzF"
      },
      "source": [
        "## Min/Max Scaling\n",
        "This will ensure all of your X data is between 0 (min) and 1 (max). You will use fit_transform() on the train data first, then fit on the test data. If you don't do this step after splitting, you will have data leakage. \n",
        "\n",
        "Only scale the X data, not the Y data!\n",
        "\n",
        "Do yourself a favor and just overwrite X_train and X_test when standardizing, as I do below. Min/max scaling requires that the data are numpy arrays and all numeric data.\n",
        "\n",
        "\n",
        "**Like this example:**\n",
        "```\n",
        "import numpy as np\n",
        "from sklearn.preprocessing import MinMaxScaler\n",
        "\n",
        "scaler = MinMaxScaler()\n",
        "X_train = scaler.fit_transform(X_train)\n",
        "X_test = scaler.transform(X_test)\n",
        "```\n",
        "Formula link: http://rasbt.github.io/mlxtend/user_guide/preprocessing/minmax_scaling/ \n",
        "\n",
        "$(X - min(X)) / range(X)$"
      ]
    },
    {
      "cell_type": "code",
      "metadata": {
        "id": "D9KyPXdiujPv"
      },
      "source": [
        "# you probably have already imported the MinMaxScale at the top of your script\n",
        "# you should convert to numpy array before scaling\n",
        "scaler = MinMaxScaler()\n",
        "X_train = scaler.fit_transform(X_train)\n",
        "# take that coordinate system you just learned on X_train, and APPLY it to X_test\n",
        "X_test = scaler.transform(X_test)"
      ],
      "execution_count": null,
      "outputs": []
    },
    {
      "cell_type": "code",
      "metadata": {
        "id": "-4vlQCG01S3E",
        "colab": {
          "base_uri": "https://localhost:8080/",
          "height": 314
        },
        "outputId": "d34efc6f-064f-469e-d81f-f6badcee5349"
      },
      "source": [
        "# if you wanted to run summary stats on these to check the range,\n",
        "# you would need to convert to a pandas dataframe.\n",
        "tmp = pd.DataFrame(X_train)\n",
        "tmp.describe() # notice how all the max values are 1, all min values are 0."
      ],
      "execution_count": null,
      "outputs": [
        {
          "output_type": "execute_result",
          "data": {
            "text/html": [
              "<div>\n",
              "<style scoped>\n",
              "    .dataframe tbody tr th:only-of-type {\n",
              "        vertical-align: middle;\n",
              "    }\n",
              "\n",
              "    .dataframe tbody tr th {\n",
              "        vertical-align: top;\n",
              "    }\n",
              "\n",
              "    .dataframe thead th {\n",
              "        text-align: right;\n",
              "    }\n",
              "</style>\n",
              "<table border=\"1\" class=\"dataframe\">\n",
              "  <thead>\n",
              "    <tr style=\"text-align: right;\">\n",
              "      <th></th>\n",
              "      <th>0</th>\n",
              "      <th>1</th>\n",
              "      <th>2</th>\n",
              "      <th>3</th>\n",
              "      <th>4</th>\n",
              "      <th>5</th>\n",
              "      <th>6</th>\n",
              "      <th>7</th>\n",
              "      <th>8</th>\n",
              "      <th>9</th>\n",
              "      <th>10</th>\n",
              "      <th>11</th>\n",
              "      <th>12</th>\n",
              "    </tr>\n",
              "  </thead>\n",
              "  <tbody>\n",
              "    <tr>\n",
              "      <th>count</th>\n",
              "      <td>404.000000</td>\n",
              "      <td>404.000000</td>\n",
              "      <td>404.000000</td>\n",
              "      <td>404.000000</td>\n",
              "      <td>404.000000</td>\n",
              "      <td>404.000000</td>\n",
              "      <td>404.000000</td>\n",
              "      <td>404.000000</td>\n",
              "      <td>404.000000</td>\n",
              "      <td>404.000000</td>\n",
              "      <td>404.000000</td>\n",
              "      <td>404.000000</td>\n",
              "      <td>404.000000</td>\n",
              "    </tr>\n",
              "    <tr>\n",
              "      <th>mean</th>\n",
              "      <td>0.040465</td>\n",
              "      <td>0.115693</td>\n",
              "      <td>0.379446</td>\n",
              "      <td>0.071782</td>\n",
              "      <td>0.352848</td>\n",
              "      <td>0.498859</td>\n",
              "      <td>0.676173</td>\n",
              "      <td>0.243577</td>\n",
              "      <td>0.363323</td>\n",
              "      <td>0.414184</td>\n",
              "      <td>0.608332</td>\n",
              "      <td>0.897570</td>\n",
              "      <td>0.296009</td>\n",
              "    </tr>\n",
              "    <tr>\n",
              "      <th>std</th>\n",
              "      <td>0.099757</td>\n",
              "      <td>0.231525</td>\n",
              "      <td>0.255356</td>\n",
              "      <td>0.258447</td>\n",
              "      <td>0.242190</td>\n",
              "      <td>0.144285</td>\n",
              "      <td>0.288310</td>\n",
              "      <td>0.193802</td>\n",
              "      <td>0.373466</td>\n",
              "      <td>0.317123</td>\n",
              "      <td>0.237096</td>\n",
              "      <td>0.230890</td>\n",
              "      <td>0.196203</td>\n",
              "    </tr>\n",
              "    <tr>\n",
              "      <th>min</th>\n",
              "      <td>0.000000</td>\n",
              "      <td>0.000000</td>\n",
              "      <td>0.000000</td>\n",
              "      <td>0.000000</td>\n",
              "      <td>0.000000</td>\n",
              "      <td>0.000000</td>\n",
              "      <td>0.000000</td>\n",
              "      <td>0.000000</td>\n",
              "      <td>0.000000</td>\n",
              "      <td>0.000000</td>\n",
              "      <td>0.000000</td>\n",
              "      <td>0.000000</td>\n",
              "      <td>0.000000</td>\n",
              "    </tr>\n",
              "    <tr>\n",
              "      <th>25%</th>\n",
              "      <td>0.000814</td>\n",
              "      <td>0.000000</td>\n",
              "      <td>0.162593</td>\n",
              "      <td>0.000000</td>\n",
              "      <td>0.137860</td>\n",
              "      <td>0.412345</td>\n",
              "      <td>0.439238</td>\n",
              "      <td>0.087140</td>\n",
              "      <td>0.130435</td>\n",
              "      <td>0.175573</td>\n",
              "      <td>0.446809</td>\n",
              "      <td>0.945969</td>\n",
              "      <td>0.139142</td>\n",
              "    </tr>\n",
              "    <tr>\n",
              "      <th>50%</th>\n",
              "      <td>0.002836</td>\n",
              "      <td>0.000000</td>\n",
              "      <td>0.289630</td>\n",
              "      <td>0.000000</td>\n",
              "      <td>0.314815</td>\n",
              "      <td>0.477324</td>\n",
              "      <td>0.770340</td>\n",
              "      <td>0.186066</td>\n",
              "      <td>0.173913</td>\n",
              "      <td>0.272901</td>\n",
              "      <td>0.648936</td>\n",
              "      <td>0.985892</td>\n",
              "      <td>0.253725</td>\n",
              "    </tr>\n",
              "    <tr>\n",
              "      <th>75%</th>\n",
              "      <td>0.035900</td>\n",
              "      <td>0.200000</td>\n",
              "      <td>0.642963</td>\n",
              "      <td>0.000000</td>\n",
              "      <td>0.506173</td>\n",
              "      <td>0.564114</td>\n",
              "      <td>0.934604</td>\n",
              "      <td>0.388400</td>\n",
              "      <td>0.478261</td>\n",
              "      <td>0.914122</td>\n",
              "      <td>0.808511</td>\n",
              "      <td>0.997113</td>\n",
              "      <td>0.404042</td>\n",
              "    </tr>\n",
              "    <tr>\n",
              "      <th>max</th>\n",
              "      <td>1.000000</td>\n",
              "      <td>1.000000</td>\n",
              "      <td>1.000000</td>\n",
              "      <td>1.000000</td>\n",
              "      <td>1.000000</td>\n",
              "      <td>1.000000</td>\n",
              "      <td>1.000000</td>\n",
              "      <td>1.000000</td>\n",
              "      <td>1.000000</td>\n",
              "      <td>1.000000</td>\n",
              "      <td>1.000000</td>\n",
              "      <td>1.000000</td>\n",
              "      <td>1.000000</td>\n",
              "    </tr>\n",
              "  </tbody>\n",
              "</table>\n",
              "</div>"
            ],
            "text/plain": [
              "               0           1           2   ...          10          11          12\n",
              "count  404.000000  404.000000  404.000000  ...  404.000000  404.000000  404.000000\n",
              "mean     0.040465    0.115693    0.379446  ...    0.608332    0.897570    0.296009\n",
              "std      0.099757    0.231525    0.255356  ...    0.237096    0.230890    0.196203\n",
              "min      0.000000    0.000000    0.000000  ...    0.000000    0.000000    0.000000\n",
              "25%      0.000814    0.000000    0.162593  ...    0.446809    0.945969    0.139142\n",
              "50%      0.002836    0.000000    0.289630  ...    0.648936    0.985892    0.253725\n",
              "75%      0.035900    0.200000    0.642963  ...    0.808511    0.997113    0.404042\n",
              "max      1.000000    1.000000    1.000000  ...    1.000000    1.000000    1.000000\n",
              "\n",
              "[8 rows x 13 columns]"
            ]
          },
          "metadata": {
            "tags": []
          },
          "execution_count": 14
        }
      ]
    },
    {
      "cell_type": "code",
      "metadata": {
        "id": "d8YdTsP7V2ic",
        "colab": {
          "base_uri": "https://localhost:8080/",
          "height": 314
        },
        "outputId": "2192f044-a99e-4562-e30d-ab389a6b4be5"
      },
      "source": [
        "# if you wanted to run summary stats on these to check the range,\n",
        "# you would need to convert to a pandas dataframe.\n",
        "tmp = pd.DataFrame(X_test)\n",
        "tmp.describe() # notice how all the max values are 1, all min values are 0."
      ],
      "execution_count": null,
      "outputs": [
        {
          "output_type": "execute_result",
          "data": {
            "text/html": [
              "<div>\n",
              "<style scoped>\n",
              "    .dataframe tbody tr th:only-of-type {\n",
              "        vertical-align: middle;\n",
              "    }\n",
              "\n",
              "    .dataframe tbody tr th {\n",
              "        vertical-align: top;\n",
              "    }\n",
              "\n",
              "    .dataframe thead th {\n",
              "        text-align: right;\n",
              "    }\n",
              "</style>\n",
              "<table border=\"1\" class=\"dataframe\">\n",
              "  <thead>\n",
              "    <tr style=\"text-align: right;\">\n",
              "      <th></th>\n",
              "      <th>0</th>\n",
              "      <th>1</th>\n",
              "      <th>2</th>\n",
              "      <th>3</th>\n",
              "      <th>4</th>\n",
              "      <th>5</th>\n",
              "      <th>6</th>\n",
              "      <th>7</th>\n",
              "      <th>8</th>\n",
              "      <th>9</th>\n",
              "      <th>10</th>\n",
              "      <th>11</th>\n",
              "      <th>12</th>\n",
              "    </tr>\n",
              "  </thead>\n",
              "  <tbody>\n",
              "    <tr>\n",
              "      <th>count</th>\n",
              "      <td>102.000000</td>\n",
              "      <td>102.000000</td>\n",
              "      <td>102.000000</td>\n",
              "      <td>102.000000</td>\n",
              "      <td>102.000000</td>\n",
              "      <td>102.000000</td>\n",
              "      <td>102.000000</td>\n",
              "      <td>102.000000</td>\n",
              "      <td>102.000000</td>\n",
              "      <td>102.000000</td>\n",
              "      <td>102.000000</td>\n",
              "      <td>102.000000</td>\n",
              "      <td>102.000000</td>\n",
              "    </tr>\n",
              "    <tr>\n",
              "      <th>mean</th>\n",
              "      <td>0.040710</td>\n",
              "      <td>0.105490</td>\n",
              "      <td>0.407324</td>\n",
              "      <td>0.058824</td>\n",
              "      <td>0.334586</td>\n",
              "      <td>0.467324</td>\n",
              "      <td>0.677117</td>\n",
              "      <td>0.237644</td>\n",
              "      <td>0.404945</td>\n",
              "      <td>0.453993</td>\n",
              "      <td>0.680747</td>\n",
              "      <td>0.902520</td>\n",
              "      <td>0.322799</td>\n",
              "    </tr>\n",
              "    <tr>\n",
              "      <th>std</th>\n",
              "      <td>0.083847</td>\n",
              "      <td>0.240832</td>\n",
              "      <td>0.248984</td>\n",
              "      <td>0.236456</td>\n",
              "      <td>0.223462</td>\n",
              "      <td>0.135006</td>\n",
              "      <td>0.297537</td>\n",
              "      <td>0.182847</td>\n",
              "      <td>0.398343</td>\n",
              "      <td>0.338669</td>\n",
              "      <td>0.191551</td>\n",
              "      <td>0.228559</td>\n",
              "      <td>0.199906</td>\n",
              "    </tr>\n",
              "    <tr>\n",
              "      <th>min</th>\n",
              "      <td>-0.000031</td>\n",
              "      <td>0.000000</td>\n",
              "      <td>-0.010370</td>\n",
              "      <td>0.000000</td>\n",
              "      <td>0.014403</td>\n",
              "      <td>-0.061420</td>\n",
              "      <td>0.033986</td>\n",
              "      <td>0.003592</td>\n",
              "      <td>0.000000</td>\n",
              "      <td>0.001908</td>\n",
              "      <td>0.042553</td>\n",
              "      <td>0.016037</td>\n",
              "      <td>0.031733</td>\n",
              "    </tr>\n",
              "    <tr>\n",
              "      <th>25%</th>\n",
              "      <td>0.000880</td>\n",
              "      <td>0.000000</td>\n",
              "      <td>0.198611</td>\n",
              "      <td>0.000000</td>\n",
              "      <td>0.130144</td>\n",
              "      <td>0.408227</td>\n",
              "      <td>0.421215</td>\n",
              "      <td>0.103152</td>\n",
              "      <td>0.130435</td>\n",
              "      <td>0.180821</td>\n",
              "      <td>0.617021</td>\n",
              "      <td>0.944828</td>\n",
              "      <td>0.164390</td>\n",
              "    </tr>\n",
              "    <tr>\n",
              "      <th>50%</th>\n",
              "      <td>0.002257</td>\n",
              "      <td>0.000000</td>\n",
              "      <td>0.364815</td>\n",
              "      <td>0.000000</td>\n",
              "      <td>0.302469</td>\n",
              "      <td>0.469290</td>\n",
              "      <td>0.739444</td>\n",
              "      <td>0.202221</td>\n",
              "      <td>0.173913</td>\n",
              "      <td>0.301527</td>\n",
              "      <td>0.702128</td>\n",
              "      <td>0.988161</td>\n",
              "      <td>0.292632</td>\n",
              "    </tr>\n",
              "    <tr>\n",
              "      <th>75%</th>\n",
              "      <td>0.050731</td>\n",
              "      <td>0.000000</td>\n",
              "      <td>0.642963</td>\n",
              "      <td>0.000000</td>\n",
              "      <td>0.486626</td>\n",
              "      <td>0.532083</td>\n",
              "      <td>0.950824</td>\n",
              "      <td>0.330568</td>\n",
              "      <td>1.000000</td>\n",
              "      <td>0.914122</td>\n",
              "      <td>0.808511</td>\n",
              "      <td>1.000000</td>\n",
              "      <td>0.449434</td>\n",
              "    </tr>\n",
              "    <tr>\n",
              "      <th>max</th>\n",
              "      <td>0.514089</td>\n",
              "      <td>0.950000</td>\n",
              "      <td>1.000000</td>\n",
              "      <td>1.000000</td>\n",
              "      <td>1.000000</td>\n",
              "      <td>0.848281</td>\n",
              "      <td>1.000000</td>\n",
              "      <td>0.871218</td>\n",
              "      <td>1.000000</td>\n",
              "      <td>1.000000</td>\n",
              "      <td>1.000000</td>\n",
              "      <td>1.000000</td>\n",
              "      <td>0.972682</td>\n",
              "    </tr>\n",
              "  </tbody>\n",
              "</table>\n",
              "</div>"
            ],
            "text/plain": [
              "               0           1           2   ...          10          11          12\n",
              "count  102.000000  102.000000  102.000000  ...  102.000000  102.000000  102.000000\n",
              "mean     0.040710    0.105490    0.407324  ...    0.680747    0.902520    0.322799\n",
              "std      0.083847    0.240832    0.248984  ...    0.191551    0.228559    0.199906\n",
              "min     -0.000031    0.000000   -0.010370  ...    0.042553    0.016037    0.031733\n",
              "25%      0.000880    0.000000    0.198611  ...    0.617021    0.944828    0.164390\n",
              "50%      0.002257    0.000000    0.364815  ...    0.702128    0.988161    0.292632\n",
              "75%      0.050731    0.000000    0.642963  ...    0.808511    1.000000    0.449434\n",
              "max      0.514089    0.950000    1.000000  ...    1.000000    1.000000    0.972682\n",
              "\n",
              "[8 rows x 13 columns]"
            ]
          },
          "metadata": {
            "tags": []
          },
          "execution_count": 15
        }
      ]
    },
    {
      "cell_type": "markdown",
      "metadata": {
        "id": "SjiD7wWVtT5X"
      },
      "source": [
        "## Fit The Model\n",
        "Fit the model and make new variables to save your train and test predictions. Make sure you are using the appropriate regression or classification model.\n",
        "\n",
        "* https://scikit-learn.org/stable/modules/generated/sklearn.linear_model.LinearRegression.html#sklearn.linear_model.LinearRegression.fit\n",
        "\n",
        "![linear regression image](https://nextjournal.com/data/QmfPuPp4V74FyvTTojMj6ix9T8Skj1ji4GhX5Pr6zK8w4N?content-type=image%2Fpng&filename=linear-regression.png)\n",
        "\n",
        "![linear regression 2](https://pro.arcgis.com/en/pro-app/latest/tool-reference/spatial-statistics/GUID-1BEA85FC-9112-4ADF-8D31-572864E2F630-web.png)"
      ]
    },
    {
      "cell_type": "code",
      "metadata": {
        "id": "g5_x7INZt02l"
      },
      "source": [
        "# make a variable to store the general model\n",
        "LR = LinearRegression()\n",
        "# fit the model - one line of code - LR is now a 'model object'\n",
        "LR = LR.fit(X_train, y_train) # order matters here! don't reverse it!"
      ],
      "execution_count": null,
      "outputs": []
    },
    {
      "cell_type": "code",
      "metadata": {
        "id": "KDWWnOoM12Qu"
      },
      "source": [
        "# store the predictions\n",
        "train_preds = LR.predict(X_train) # 404 rows, 1 column... same dimensionality as y_train\n",
        "test_preds = LR.predict(X_test)  # 102 rows, 1 column... same dimensionality as y_test"
      ],
      "execution_count": null,
      "outputs": []
    },
    {
      "cell_type": "markdown",
      "metadata": {
        "id": "vRsCK_5Jtb0Z"
      },
      "source": [
        "## Evaluate the Model\n",
        "Look at the appropriate error metrics depending on the problem you are solving. \n",
        "\n",
        "For a regression problem, look at the R2, MAE and MSE; then make a scatterplot of actual vs. predicted values with nice labels and titles.\n",
        "\n",
        "For a classification problem, create the classification report (gives a confusion matrix and useful metrics in one line of code)."
      ]
    },
    {
      "cell_type": "code",
      "metadata": {
        "id": "MSydlALQskCS",
        "colab": {
          "base_uri": "https://localhost:8080/"
        },
        "outputId": "0b6f4409-41ce-4530-c135-484479af3011"
      },
      "source": [
        "# this is a regression problem, and there are three metrics to look at.\n",
        "# 1) R2 value - look at the documentation: actual, predicted\n",
        "print(\"This is train R2:\", r2_score(y_train, train_preds)) # train\n",
        "print(\"This is test R2:\", r2_score(y_test, test_preds)) # test\n",
        "\n",
        "# bigger numbers are better, values will be between 0 and 1"
      ],
      "execution_count": null,
      "outputs": [
        {
          "output_type": "stream",
          "text": [
            "This is train R2: 0.7508856358979673\n",
            "This is test R2: 0.6687594935356318\n"
          ],
          "name": "stdout"
        }
      ]
    },
    {
      "cell_type": "code",
      "metadata": {
        "id": "8cruvmQP2T_0",
        "colab": {
          "base_uri": "https://localhost:8080/"
        },
        "outputId": "22b5c079-9f3b-44d3-881f-6de17458c225"
      },
      "source": [
        "# 2) mae- look at the documentation: actual, predicted\n",
        "trainMAE = mean_absolute_error(y_train, train_preds)\n",
        "print(\"This is trainMAE:\", trainMAE) # train\n",
        "testMAE = mean_absolute_error(y_test, test_preds)\n",
        "print(\"This is testMAE:\", testMAE) # test\n",
        "\n",
        "# values between 0 and +Inf\n",
        "# values closer to 0 are better"
      ],
      "execution_count": null,
      "outputs": [
        {
          "output_type": "stream",
          "text": [
            "This is trainMAE: 3.3147716267832306\n",
            "This is testMAE: 3.189091965887848\n"
          ],
          "name": "stdout"
        }
      ]
    },
    {
      "cell_type": "code",
      "metadata": {
        "id": "PNDKbP3U3CE7",
        "colab": {
          "base_uri": "https://localhost:8080/"
        },
        "outputId": "8df205c7-fa10-454a-b07c-9c74eef0241a"
      },
      "source": [
        "# 3) mse- look at the documentation: actual, predicted\n",
        "trainMSE = mean_squared_error(y_train, train_preds)\n",
        "print(\"This is trainMSE:\", trainMSE)\n",
        "testMSE = mean_squared_error(y_test, test_preds)\n",
        "print(\"This is testMSE:\", testMSE)\n",
        "\n",
        "# values between 0 and +Inf\n",
        "# values closer to 0 are better"
      ],
      "execution_count": null,
      "outputs": [
        {
          "output_type": "stream",
          "text": [
            "This is trainMSE: 21.641412753226312\n",
            "This is testMSE: 24.291119474973534\n"
          ],
          "name": "stdout"
        }
      ]
    },
    {
      "cell_type": "code",
      "metadata": {
        "id": "Rjb72zEp3UKu",
        "colab": {
          "base_uri": "https://localhost:8080/",
          "height": 431
        },
        "outputId": "7413ab4d-17b2-4711-cb2d-867916e918a8"
      },
      "source": [
        "# a quick scatterplot for train results\n",
        "# let's see how it fit\n",
        "plt.figure(figsize=(8, 6))\n",
        "plt.scatter(x=y_train, y=train_preds)\n",
        "plt.plot([0, 50], [0, 50], '--k') # 45 degree line\n",
        "plt.axis('tight')\n",
        "plt.xlabel('True price ($1000s)')\n",
        "plt.ylabel('Predicted price ($1000s)')\n",
        "plt.suptitle('Train Results')\n",
        "plt.show()"
      ],
      "execution_count": null,
      "outputs": [
        {
          "output_type": "display_data",
          "data": {
            "image/png": "[encoded data removed]",
            "text/plain": [
              "<Figure size 576x432 with 1 Axes>"
            ]
          },
          "metadata": {
            "tags": [],
            "needs_background": "light"
          }
        }
      ]
    },
    {
      "cell_type": "code",
      "metadata": {
        "id": "GPRoLJ0x3WFD",
        "colab": {
          "base_uri": "https://localhost:8080/",
          "height": 431
        },
        "outputId": "1bbeeb81-028b-4077-f816-8bae5e8d7344"
      },
      "source": [
        "# a quick scatterplot for test results\n",
        "# same code as above, just different labels\n",
        "# a quick scatterplot for train results\n",
        "# let's see how it fit\n",
        "plt.figure(figsize=(8, 6))\n",
        "plt.scatter(x=y_test, y=test_preds)\n",
        "plt.plot([0, 50], [0, 50], '--k') # 45 degree line\n",
        "plt.axis('tight')\n",
        "plt.xlabel('True price ($1000s)')\n",
        "plt.ylabel('Predicted price ($1000s)')\n",
        "plt.suptitle('Test Results')\n",
        "plt.show()"
      ],
      "execution_count": null,
      "outputs": [
        {
          "output_type": "display_data",
          "data": {
            "image/png": "[encoded data removed]",
            "text/plain": [
              "<Figure size 576x432 with 1 Axes>"
            ]
          },
          "metadata": {
            "tags": [],
            "needs_background": "light"
          }
        }
      ]
    },
    {
      "cell_type": "markdown",
      "metadata": {
        "id": "h-4AbBzY3wSJ"
      },
      "source": [
        "# Done!\n",
        "You have just completed a very simple ML framework for regression modeling. Even though you used a linear regression, you still got great results. \n",
        "\n",
        "Later on, you will expand on these topics and start fitting multiple models, and may start tweaking them ('hyperparameter tuning') to get even better peformance. Sit tight!\n",
        "\n",
        "If you want, try to make a two-panel plot for the scatterplot."
      ]
    }
  ]
}